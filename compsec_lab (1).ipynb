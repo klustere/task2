{
  "nbformat": 4,
  "nbformat_minor": 0,
  "metadata": {
    "colab": {
      "provenance": []
    },
    "kernelspec": {
      "name": "python3",
      "display_name": "Python 3"
    },
    "language_info": {
      "name": "python"
    }
  },
  "cells": [
    {
      "cell_type": "code",
      "execution_count": null,
      "metadata": {
        "colab": {
          "base_uri": "https://localhost:8080/"
        },
        "id": "mrn7oHWXWSmF",
        "outputId": "39d9bcb4-0aa7-4109-cef9-6e10324e1a32"
      },
      "outputs": [
        {
          "output_type": "stream",
          "name": "stdout",
          "text": [
            "Encrypted: KHOORqZRUOG\n",
            "Decrypted: HELLOnWORLD\n"
          ]
        }
      ],
      "source": [
        "def caesar_cipher(text, key, encrypt=True):\n",
        "    result = \"\"\n",
        "    shift = key if encrypt else -key\n",
        "\n",
        "    for char in text:\n",
        "            offset = 65 if char.isupper() else 97\n",
        "            result += chr((ord(char) - offset + shift) % 26 + offset)  # Keep non-alphabet characters unchanged\n",
        "\n",
        "    return result\n",
        "\n",
        "# Example usage:\n",
        "plaintext = \"HELLO WORLD\"\n",
        "key = 3\n",
        "\n",
        "# Encrypt\n",
        "ciphertext = caesar_cipher(plaintext, key, encrypt=True)\n",
        "print(\"Encrypted:\", ciphertext)\n",
        "\n",
        "# Decrypt\n",
        "decrypted_text = caesar_cipher(ciphertext, key, encrypt=False)\n",
        "print(\"Decrypted:\", decrypted_text)"
      ]
    },
    {
      "cell_type": "code",
      "source": [
        "import numpy as np\n",
        "\n",
        "def generate_playfair_matrix(key):\n",
        "    key = \"\".join(dict.fromkeys(key.upper().replace(\"J\", \"I\")))  # Remove duplicates\n",
        "    alphabet = \"ABCDEFGHIKLMNOPQRSTUVWXYZ\"\n",
        "    matrix = key + \"\".join(c for c in alphabet if c not in key)\n",
        "    return np.array(list(matrix)).reshape(5, 5)\n",
        "\n",
        "def find_position(matrix, char):\n",
        "    loc = np.where(matrix == char)\n",
        "    return loc[0][0], loc[1][0]\n",
        "\n",
        "def process_digraphs(text):\n",
        "    text = text.upper().replace(\"J\", \"I\")\n",
        "    text = \"\".join(c for c in text if c.isalpha())\n",
        "    digraphs = []\n",
        "\n",
        "    i = 0\n",
        "    while i < len(text):\n",
        "        if i == len(text) - 1 or text[i] == text[i + 1]:\n",
        "            digraphs.append(text[i] + 'X')\n",
        "            i += 1\n",
        "        else:\n",
        "            digraphs.append(text[i] + text[i + 1])\n",
        "            i += 2\n",
        "    return digraphs\n",
        "\n",
        "def playfair_cipher(text, key, encrypt=True):\n",
        "    matrix = generate_playfair_matrix(key)\n",
        "    digraphs = process_digraphs(text)\n",
        "    result = \"\"\n",
        "\n",
        "    for a, b in digraphs:\n",
        "        r1, c1 = find_position(matrix, a)\n",
        "        r2, c2 = find_position(matrix, b)\n",
        "\n",
        "        if r1 == r2:  # Same row\n",
        "            c1 = (c1 + (1 if encrypt else -1)) % 5\n",
        "            c2 = (c2 + (1 if encrypt else -1)) % 5\n",
        "        elif c1 == c2:  # Same column\n",
        "            r1 = (r1 + (1 if encrypt else -1)) % 5\n",
        "            r2 = (r2 + (1 if encrypt else -1)) % 5\n",
        "        else:  # Rectangle swap\n",
        "            c1, c2 = c2, c1\n",
        "\n",
        "        result += matrix[r1, c1] + matrix[r2, c2]\n",
        "\n",
        "    return result\n",
        "\n",
        "# Example usage\n",
        "key = \"KEYWORD\"\n",
        "plaintext = \"HELLO WORLD\"\n",
        "\n",
        "ciphertext = playfair_cipher(plaintext, key, encrypt=True)\n",
        "print(\"Encrypted:\", ciphertext)\n",
        "\n",
        "decrypted_text = playfair_cipher(ciphertext, key, encrypt=False)\n",
        "print(\"Decrypted:\", decrypted_text)\n"
      ],
      "metadata": {
        "colab": {
          "base_uri": "https://localhost:8080/"
        },
        "id": "JfMUU2cEWba_",
        "outputId": "7358a9f5-5615-459c-fee6-5a336b087060"
      },
      "execution_count": null,
      "outputs": [
        {
          "output_type": "stream",
          "name": "stdout",
          "text": [
            "Encrypted: GYIZSCOKCFBU\n",
            "Decrypted: HELXLOWORLDX\n"
          ]
        }
      ]
    },
    {
      "cell_type": "code",
      "source": [
        "import numpy as np\n",
        "\n",
        "# Fixed 3x3 key matrix (example)\n",
        "KEY_MATRIX = np.array([[6, 24, 1], [13, 16, 10], [20, 17, 15]])\n",
        "\n",
        "def text_to_numbers(text):\n",
        "    return [ord(c) - ord('A') for c in text]\n",
        "\n",
        "def numbers_to_text(numbers):\n",
        "    return ''.join(chr(n + ord('A')) for n in numbers)\n",
        "\n",
        "def encrypt_hill(plaintext):\n",
        "    plain_vector = np.array(text_to_numbers(plaintext)).reshape(3, 1)\n",
        "    cipher_vector = np.dot(KEY_MATRIX, plain_vector) % 26\n",
        "    return numbers_to_text(cipher_vector.flatten())\n",
        "\n",
        "def decrypt_hill(ciphertext):\n",
        "    # Compute modular inverse of KEY_MATRIX (mod 26)\n",
        "    determinant = int(round(np.linalg.det(KEY_MATRIX)))\n",
        "    determinant_inv = pow(determinant, -1, 26)\n",
        "    adjugate_matrix = np.round(determinant * np.linalg.inv(KEY_MATRIX)).astype(int) % 26\n",
        "    key_matrix_inv = (determinant_inv * adjugate_matrix) % 26\n",
        "\n",
        "    cipher_vector = np.array(text_to_numbers(ciphertext)).reshape(3, 1)\n",
        "    plain_vector = np.dot(key_matrix_inv, cipher_vector) % 26\n",
        "    return numbers_to_text(plain_vector.flatten())\n",
        "\n",
        "# Example usage\n",
        "plaintext = \"ACT\"\n",
        "ciphertext = encrypt_hill(plaintext)\n",
        "print(\"Encrypted:\", ciphertext)\n",
        "\n",
        "decrypted_text = decrypt_hill(ciphertext)\n",
        "print(\"Decrypted:\", decrypted_text)"
      ],
      "metadata": {
        "colab": {
          "base_uri": "https://localhost:8080/"
        },
        "id": "yQjrC-K0Xj6X",
        "outputId": "cc640ece-8fb4-42c2-bce2-0030e28591df"
      },
      "execution_count": null,
      "outputs": [
        {
          "output_type": "stream",
          "name": "stdout",
          "text": [
            "Encrypted: POH\n",
            "Decrypted: ACT\n"
          ]
        }
      ]
    },
    {
      "cell_type": "code",
      "source": [
        "# def vigenere_cipher(text, key, encrypt=True):\n",
        "#     key_repeated = \"\"\n",
        "#     key_length = len(key)\n",
        "\n",
        "#     for i in range(len(text)):\n",
        "#         key_repeated += key[i % key_length]\n",
        "\n",
        "#     result = \"\"\n",
        "#     for t, k in zip(text, key_repeated):\n",
        "#         shift = ord(k.upper()) - 65  # Convert key character to number (A=0, B=1, ..., Z=25)\n",
        "#         base = 65 if t.isupper() else 97  # 65 for uppercase, 97 for lowercase\n",
        "#         new_char = chr((ord(t) - base + (shift if encrypt else -shift)) % 26 + base)\n",
        "#         result += new_char\n",
        "\n",
        "#     return result\n",
        "\n",
        "\n",
        "# # Example usage\n",
        "# plaintext = \"Hello\"\n",
        "# key = \"Good\"\n",
        "\n",
        "# ciphertext = vigenere_cipher(plaintext, key, encrypt=True)\n",
        "# print(\"Encrypted:\", ciphertext)\n",
        "\n",
        "# decrypted_text = vigenere_cipher(ciphertext, key, encrypt=False)\n",
        "# print(\"Decrypted:\", decrypted_text)\n"
      ],
      "metadata": {
        "colab": {
          "base_uri": "https://localhost:8080/"
        },
        "id": "F95F5HTCZ68V",
        "outputId": "61ede027-656b-4eb0-af35-cdfbbd1cb288"
      },
      "execution_count": null,
      "outputs": [
        {
          "output_type": "stream",
          "name": "stdout",
          "text": [
            "Encrypted: Nszou\n",
            "Decrypted: Hello\n"
          ]
        }
      ]
    },
    {
      "cell_type": "markdown",
      "source": [
        "SIMPLFIED CODE FOR UPPERCASE INPUT ALONE"
      ],
      "metadata": {
        "id": "UZvQgRU4i37n"
      }
    },
    {
      "cell_type": "code",
      "source": [
        "def vigenere_cipher(text, key, encrypt=True):\n",
        "    key_repeated = \"\"\n",
        "    key_length = len(key)\n",
        "\n",
        "    for i in range(len(text)):\n",
        "        key_repeated += key[i % key_length]\n",
        "\n",
        "    result = \"\"\n",
        "    for t, k in zip(text, key_repeated):\n",
        "        shift = ord(k) - 65  # Convert key character to number (A=0, B=1, ..., Z=25)\n",
        "        new_char = chr((ord(t) - 65 + (shift if encrypt else -shift)) % 26 + 65)\n",
        "        result += new_char\n",
        "\n",
        "    return result\n",
        "plaintext = \"HELLO\"\n",
        "key = \"Good\"\n",
        "\n",
        "ciphertext = vigenere_cipher(plaintext, key, encrypt=True)\n",
        "print(\"Encrypted:\", ciphertext)\n",
        "\n",
        "decrypted_text = vigenere_cipher(ciphertext, key, encrypt=False)\n",
        "print(\"Decrypted:\", decrypted_text)\n"
      ],
      "metadata": {
        "colab": {
          "base_uri": "https://localhost:8080/"
        },
        "id": "KOxh3rp6akIO",
        "outputId": "1ef4183b-53bb-43d9-d906-cb308b7a4dcc"
      },
      "execution_count": null,
      "outputs": [
        {
          "output_type": "stream",
          "name": "stdout",
          "text": [
            "Encrypted: NYFUU\n",
            "Decrypted: HELLO\n"
          ]
        }
      ]
    },
    {
      "cell_type": "code",
      "source": [
        "# import random\n",
        "\n",
        "# def generate_key(length):\n",
        "#     key = \"\"\n",
        "#     for _ in range(length):\n",
        "#         key += random.choice(\"ABCDEFGHIJKLMNOPQRSTUVWXYZ\")\n",
        "#     return key\n",
        "\n",
        "# def vernam_cipher(text, key):\n",
        "#     result = \"\"\n",
        "#     for t, k in zip(text, key):\n",
        "#         result += chr(ord(t) ^ ord(k))  # XOR each character\n",
        "#     return result\n",
        "\n",
        "# # Example usage\n",
        "# plaintext = \"HELLO\"\n",
        "# key = generate_key(len(plaintext))\n",
        "\n",
        "# ciphertext = vernam_cipher(plaintext, key)\n",
        "# decrypted_text = vernam_cipher(ciphertext, key)  # XOR again to decrypt\n",
        "\n",
        "# print(\"Plaintext:\", plaintext)\n",
        "# print(\"Key:\", key)\n",
        "\n",
        "# # Printing ciphertext in binary for better readability\n",
        "# print(\"Ciphertext (Binary):\", \" \".join(format(ord(c), '08b') for c in ciphertext))\n",
        "\n",
        "# print(\"Decrypted:\", decrypted_text)\n"
      ],
      "metadata": {
        "colab": {
          "base_uri": "https://localhost:8080/"
        },
        "id": "JZR4CvppawP1",
        "outputId": "cd817203-31d3-4fff-ffd6-1d226d0ff2ee"
      },
      "execution_count": null,
      "outputs": [
        {
          "output_type": "stream",
          "name": "stdout",
          "text": [
            "Plaintext: HELLO\n",
            "Key: RGJTI\n",
            "Ciphertext (Binary): 00011010 00000010 00000110 00011000 00000110\n",
            "Decrypted: HELLO\n"
          ]
        }
      ]
    },
    {
      "cell_type": "code",
      "source": [
        "import random\n",
        "\n",
        "def generate_key(length):\n",
        "    return \"\".join(random.choice(\"ABCDEFGHIJKLMNOPQRSTUVWXYZ\") for _ in range(length))\n",
        "\n",
        "def vernam_cipher(text, key):\n",
        "    return \"\".join(chr(ord(t) ^ ord(k)) for t, k in zip(text, key))\n",
        "\n",
        "# Example usage\n",
        "plaintext = \"HELLO\"\n",
        "key = generate_key(len(plaintext))\n",
        "\n",
        "ciphertext = vernam_cipher(plaintext, key)\n",
        "decrypted_text = vernam_cipher(ciphertext, key)  # XOR again to decrypt\n",
        "\n",
        "print(\"Plaintext:\", plaintext)\n",
        "print(\"Key:\", key)\n",
        "print(\"Ciphertext (Binary):\", \" \".join(format(ord(c), '08b') for c in ciphertext))\n",
        "print(\"Decrypted:\", decrypted_text)\n"
      ],
      "metadata": {
        "colab": {
          "base_uri": "https://localhost:8080/"
        },
        "id": "yTSX5sn-cXDh",
        "outputId": "b405bf99-9936-40fd-c86f-98a4462001d6"
      },
      "execution_count": null,
      "outputs": [
        {
          "output_type": "stream",
          "name": "stdout",
          "text": [
            "Plaintext: HELLO\n",
            "Key: GYQGU\n",
            "Ciphertext (Binary): 00001111 00011100 00011101 00001011 00011010\n",
            "Decrypted: HELLO\n"
          ]
        }
      ]
    },
    {
      "cell_type": "markdown",
      "source": [
        "SIMPLIED PLAYFAIR FOR SIMPLER INPUTS WITHOUT SPACE OR REPEARING CHARACTERS"
      ],
      "metadata": {
        "id": "ko_IA1wDjMe9"
      }
    },
    {
      "cell_type": "code",
      "source": [
        "import numpy as np\n",
        "\n",
        "def generate_playfair_matrix(key):\n",
        "    key = key.upper().replace(\"J\", \"I\")  # Convert to uppercase, replace J with I\n",
        "    alphabet = \"ABCDEFGHIKLMNOPQRSTUVWXYZ\"\n",
        "    matrix = key + \"\".join(c for c in alphabet if c not in key)\n",
        "    return np.array(list(matrix)).reshape(5, 5)\n",
        "\n",
        "def find_position(matrix, char):\n",
        "    for i in range(5):\n",
        "        for j in range(5):\n",
        "            if matrix[i, j] == char:\n",
        "                return i, j\n",
        "\n",
        "def playfair_cipher(text, key, encrypt=True):\n",
        "    matrix = generate_playfair_matrix(key)\n",
        "    text = text.upper().replace(\"J\", \"I\")  # Convert to uppercase and replace J\n",
        "    digraphs = [text[i:i+2] for i in range(0, len(text), 2)]\n",
        "\n",
        "    result = \"\"\n",
        "    for a, b in digraphs:\n",
        "        r1, c1 = find_position(matrix, a)\n",
        "        r2, c2 = find_position(matrix, b)\n",
        "\n",
        "        if r1 == r2:  # Same row: shift columns\n",
        "            c1 = (c1 + (1 if encrypt else -1)) % 5\n",
        "            c2 = (c2 + (1 if encrypt else -1)) % 5\n",
        "        elif c1 == c2:  # Same column: shift rows\n",
        "            r1 = (r1 + (1 if encrypt else -1)) % 5\n",
        "            r2 = (r2 + (1 if encrypt else -1)) % 5\n",
        "        else:  # Rectangle swap\n",
        "            c1, c2 = c2, c1\n",
        "\n",
        "        result += matrix[r1, c1] + matrix[r2, c2]\n",
        "\n",
        "    return result\n",
        "\n",
        "# Example usage\n",
        "key = \"MONARCHY\"\n",
        "plaintext = \"GOAT\"\n",
        "\n",
        "ciphertext = playfair_cipher(plaintext, key, encrypt=True)\n",
        "print(\"Encrypted:\", ciphertext)\n",
        "\n",
        "decrypted_text = playfair_cipher(ciphertext, key, encrypt=False)\n",
        "print(\"Decrypted:\", decrypted_text)\n"
      ],
      "metadata": {
        "colab": {
          "base_uri": "https://localhost:8080/"
        },
        "id": "sMUFgjb9vi1l",
        "outputId": "a4dbf112-5533-459b-fc21-32edee38fa95"
      },
      "execution_count": null,
      "outputs": [
        {
          "output_type": "stream",
          "name": "stdout",
          "text": [
            "Encrypted: FNRS\n",
            "Decrypted: GOAT\n"
          ]
        }
      ]
    },
    {
      "cell_type": "code",
      "source": [],
      "metadata": {
        "id": "coXL1Sqg1Axv"
      },
      "execution_count": null,
      "outputs": []
    },
    {
      "cell_type": "code",
      "source": [],
      "metadata": {
        "id": "0YRABa7kXY_f"
      },
      "execution_count": null,
      "outputs": []
    },
    {
      "cell_type": "code",
      "source": [],
      "metadata": {
        "id": "b3B04VjsYFAP"
      },
      "execution_count": null,
      "outputs": []
    }
  ]
}